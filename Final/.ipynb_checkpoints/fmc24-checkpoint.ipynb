{
 "cells": [
  {
   "cell_type": "markdown",
   "metadata": {},
   "source": [
    "# Playgrounds"
   ]
  },
  {
   "cell_type": "markdown",
   "metadata": {},
   "source": [
    "### Importing"
   ]
  },
  {
   "cell_type": "code",
   "execution_count": 9,
   "metadata": {},
   "outputs": [],
   "source": [
    "import pandas as pd\n",
    "import matplotlib.pyplot as plt"
   ]
  },
  {
   "cell_type": "markdown",
   "metadata": {},
   "source": [
    "### Read Data"
   ]
  },
  {
   "cell_type": "code",
   "execution_count": 10,
   "metadata": {},
   "outputs": [
    {
     "data": {
      "text/html": [
       "<div>\n",
       "<style scoped>\n",
       "    .dataframe tbody tr th:only-of-type {\n",
       "        vertical-align: middle;\n",
       "    }\n",
       "\n",
       "    .dataframe tbody tr th {\n",
       "        vertical-align: top;\n",
       "    }\n",
       "\n",
       "    .dataframe thead th {\n",
       "        text-align: right;\n",
       "    }\n",
       "</style>\n",
       "<table border=\"1\" class=\"dataframe\">\n",
       "  <thead>\n",
       "    <tr style=\"text-align: right;\">\n",
       "      <th></th>\n",
       "      <th>_id</th>\n",
       "      <th>id</th>\n",
       "      <th>name</th>\n",
       "      <th>type</th>\n",
       "      <th>maintenance_responsibility</th>\n",
       "      <th>park</th>\n",
       "      <th>street</th>\n",
       "      <th>image</th>\n",
       "      <th>neighborhood</th>\n",
       "      <th>council_district</th>\n",
       "      <th>ward</th>\n",
       "      <th>tract</th>\n",
       "      <th>public_works_division</th>\n",
       "      <th>pli_division</th>\n",
       "      <th>police_zone</th>\n",
       "      <th>fire_zone</th>\n",
       "      <th>latitude</th>\n",
       "      <th>longitude</th>\n",
       "    </tr>\n",
       "  </thead>\n",
       "  <tbody>\n",
       "    <tr>\n",
       "      <th>0</th>\n",
       "      <td>1</td>\n",
       "      <td>731501774</td>\n",
       "      <td>Able Long Playground</td>\n",
       "      <td>NaN</td>\n",
       "      <td>Parks - Western</td>\n",
       "      <td>Able Long Park</td>\n",
       "      <td>COAST AVE</td>\n",
       "      <td>https://tools.wprdc.org/images/pittsburgh/play...</td>\n",
       "      <td>Beechview</td>\n",
       "      <td>4</td>\n",
       "      <td>19</td>\n",
       "      <td>42003192000</td>\n",
       "      <td>5</td>\n",
       "      <td>19</td>\n",
       "      <td>6</td>\n",
       "      <td>4-28</td>\n",
       "      <td>40.408365</td>\n",
       "      <td>-80.028445</td>\n",
       "    </tr>\n",
       "    <tr>\n",
       "      <th>1</th>\n",
       "      <td>2</td>\n",
       "      <td>1461276747</td>\n",
       "      <td>Albert Graham Playground</td>\n",
       "      <td>NaN</td>\n",
       "      <td>Parks - Schenley</td>\n",
       "      <td>Albert Turk Graham Park</td>\n",
       "      <td>FORESIDE PL</td>\n",
       "      <td>https://tools.wprdc.org/images/pittsburgh/play...</td>\n",
       "      <td>Crawford-Roberts</td>\n",
       "      <td>6</td>\n",
       "      <td>3</td>\n",
       "      <td>42003030500</td>\n",
       "      <td>3</td>\n",
       "      <td>3</td>\n",
       "      <td>2</td>\n",
       "      <td>2-1</td>\n",
       "      <td>40.440519</td>\n",
       "      <td>-79.984137</td>\n",
       "    </tr>\n",
       "    <tr>\n",
       "      <th>2</th>\n",
       "      <td>3</td>\n",
       "      <td>1860709784</td>\n",
       "      <td>Alpine Playground</td>\n",
       "      <td>NaN</td>\n",
       "      <td>Parks - Northern</td>\n",
       "      <td>Alpine Gardens Park</td>\n",
       "      <td>ALPINE AVE</td>\n",
       "      <td>https://tools.wprdc.org/images/pittsburgh/play...</td>\n",
       "      <td>Central Northside</td>\n",
       "      <td>6</td>\n",
       "      <td>25</td>\n",
       "      <td>42003250300</td>\n",
       "      <td>1</td>\n",
       "      <td>25</td>\n",
       "      <td>1</td>\n",
       "      <td>1-21</td>\n",
       "      <td>40.457707</td>\n",
       "      <td>-80.012952</td>\n",
       "    </tr>\n",
       "    <tr>\n",
       "      <th>3</th>\n",
       "      <td>4</td>\n",
       "      <td>1770671485</td>\n",
       "      <td>Alton Playground</td>\n",
       "      <td>NaN</td>\n",
       "      <td>Parks - Western</td>\n",
       "      <td>Alton Park</td>\n",
       "      <td>ANDICK WAY</td>\n",
       "      <td>https://tools.wprdc.org/images/pittsburgh/play...</td>\n",
       "      <td>Beechview</td>\n",
       "      <td>4</td>\n",
       "      <td>19</td>\n",
       "      <td>42003191600</td>\n",
       "      <td>5</td>\n",
       "      <td>19</td>\n",
       "      <td>6</td>\n",
       "      <td>4-28</td>\n",
       "      <td>40.414137</td>\n",
       "      <td>-80.021605</td>\n",
       "    </tr>\n",
       "    <tr>\n",
       "      <th>4</th>\n",
       "      <td>5</td>\n",
       "      <td>18942817</td>\n",
       "      <td>Ammon Playground</td>\n",
       "      <td>NaN</td>\n",
       "      <td>Parks - Schenley</td>\n",
       "      <td>Ammon Park</td>\n",
       "      <td>MEMORY LN</td>\n",
       "      <td>https://tools.wprdc.org/images/pittsburgh/play...</td>\n",
       "      <td>Bedford Dwellings</td>\n",
       "      <td>6</td>\n",
       "      <td>5</td>\n",
       "      <td>42003050900</td>\n",
       "      <td>3</td>\n",
       "      <td>5</td>\n",
       "      <td>2</td>\n",
       "      <td>2-5</td>\n",
       "      <td>40.449037</td>\n",
       "      <td>-79.978064</td>\n",
       "    </tr>\n",
       "  </tbody>\n",
       "</table>\n",
       "</div>"
      ],
      "text/plain": [
       "   _id          id                      name  type maintenance_responsibility  \\\n",
       "0    1   731501774      Able Long Playground   NaN            Parks - Western   \n",
       "1    2  1461276747  Albert Graham Playground   NaN           Parks - Schenley   \n",
       "2    3  1860709784         Alpine Playground   NaN           Parks - Northern   \n",
       "3    4  1770671485          Alton Playground   NaN            Parks - Western   \n",
       "4    5    18942817          Ammon Playground   NaN           Parks - Schenley   \n",
       "\n",
       "                      park       street  \\\n",
       "0           Able Long Park    COAST AVE   \n",
       "1  Albert Turk Graham Park  FORESIDE PL   \n",
       "2      Alpine Gardens Park   ALPINE AVE   \n",
       "3               Alton Park   ANDICK WAY   \n",
       "4               Ammon Park    MEMORY LN   \n",
       "\n",
       "                                               image       neighborhood  \\\n",
       "0  https://tools.wprdc.org/images/pittsburgh/play...          Beechview   \n",
       "1  https://tools.wprdc.org/images/pittsburgh/play...   Crawford-Roberts   \n",
       "2  https://tools.wprdc.org/images/pittsburgh/play...  Central Northside   \n",
       "3  https://tools.wprdc.org/images/pittsburgh/play...          Beechview   \n",
       "4  https://tools.wprdc.org/images/pittsburgh/play...  Bedford Dwellings   \n",
       "\n",
       "   council_district  ward        tract  public_works_division  pli_division  \\\n",
       "0                 4    19  42003192000                      5            19   \n",
       "1                 6     3  42003030500                      3             3   \n",
       "2                 6    25  42003250300                      1            25   \n",
       "3                 4    19  42003191600                      5            19   \n",
       "4                 6     5  42003050900                      3             5   \n",
       "\n",
       "   police_zone fire_zone   latitude  longitude  \n",
       "0            6      4-28  40.408365 -80.028445  \n",
       "1            2       2-1  40.440519 -79.984137  \n",
       "2            1      1-21  40.457707 -80.012952  \n",
       "3            6      4-28  40.414137 -80.021605  \n",
       "4            2       2-5  40.449037 -79.978064  "
      ]
     },
     "execution_count": 10,
     "metadata": {},
     "output_type": "execute_result"
    }
   ],
   "source": [
    "data = pd.read_csv('Playground.csv')\n",
    "data.head()"
   ]
  },
  {
   "cell_type": "markdown",
   "metadata": {},
   "source": [
    "### Isolate Data"
   ]
  },
  {
   "cell_type": "code",
   "execution_count": 11,
   "metadata": {},
   "outputs": [
    {
     "data": {
      "text/html": [
       "<div>\n",
       "<style scoped>\n",
       "    .dataframe tbody tr th:only-of-type {\n",
       "        vertical-align: middle;\n",
       "    }\n",
       "\n",
       "    .dataframe tbody tr th {\n",
       "        vertical-align: top;\n",
       "    }\n",
       "\n",
       "    .dataframe thead th {\n",
       "        text-align: right;\n",
       "    }\n",
       "</style>\n",
       "<table border=\"1\" class=\"dataframe\">\n",
       "  <thead>\n",
       "    <tr style=\"text-align: right;\">\n",
       "      <th></th>\n",
       "      <th>type</th>\n",
       "      <th>park</th>\n",
       "      <th>neighborhood</th>\n",
       "    </tr>\n",
       "  </thead>\n",
       "  <tbody>\n",
       "    <tr>\n",
       "      <th>0</th>\n",
       "      <td>NaN</td>\n",
       "      <td>Able Long Park</td>\n",
       "      <td>Beechview</td>\n",
       "    </tr>\n",
       "    <tr>\n",
       "      <th>1</th>\n",
       "      <td>NaN</td>\n",
       "      <td>Albert Turk Graham Park</td>\n",
       "      <td>Crawford-Roberts</td>\n",
       "    </tr>\n",
       "    <tr>\n",
       "      <th>2</th>\n",
       "      <td>NaN</td>\n",
       "      <td>Alpine Gardens Park</td>\n",
       "      <td>Central Northside</td>\n",
       "    </tr>\n",
       "    <tr>\n",
       "      <th>3</th>\n",
       "      <td>NaN</td>\n",
       "      <td>Alton Park</td>\n",
       "      <td>Beechview</td>\n",
       "    </tr>\n",
       "    <tr>\n",
       "      <th>4</th>\n",
       "      <td>NaN</td>\n",
       "      <td>Ammon Park</td>\n",
       "      <td>Bedford Dwellings</td>\n",
       "    </tr>\n",
       "  </tbody>\n",
       "</table>\n",
       "</div>"
      ],
      "text/plain": [
       "   type                     park       neighborhood\n",
       "0   NaN           Able Long Park          Beechview\n",
       "1   NaN  Albert Turk Graham Park   Crawford-Roberts\n",
       "2   NaN      Alpine Gardens Park  Central Northside\n",
       "3   NaN               Alton Park          Beechview\n",
       "4   NaN               Ammon Park  Bedford Dwellings"
      ]
     },
     "execution_count": 11,
     "metadata": {},
     "output_type": "execute_result"
    }
   ],
   "source": [
    "data = data[['type', 'park', 'neighborhood']]\n",
    "data.head()"
   ]
  },
  {
   "cell_type": "markdown",
   "metadata": {},
   "source": [
    "### Collect Number of playgrounds By Neighborhood"
   ]
  },
  {
   "cell_type": "code",
   "execution_count": 27,
   "metadata": {},
   "outputs": [
    {
     "data": {
      "text/plain": [
       "{'Squirrel Hill South': 8,\n",
       " 'Beechview': 5,\n",
       " 'South Side Slopes': 5,\n",
       " 'Allegheny Center': 4,\n",
       " 'Highland Park': 4,\n",
       " 'Sheraden': 4,\n",
       " 'Beltzhoover': 4,\n",
       " 'Crawford-Roberts': 3,\n",
       " 'Hazelwood': 3,\n",
       " 'East Liberty': 3,\n",
       " 'Upper Lawrenceville': 3,\n",
       " 'South Oakland': 3,\n",
       " 'Elliott': 3,\n",
       " 'Carrick': 3,\n",
       " 'Mount Washington': 3,\n",
       " 'Central Northside': 2,\n",
       " 'South Side Flats': 2,\n",
       " 'Brighton Heights': 2,\n",
       " 'Brookline': 2,\n",
       " 'Lincoln-Lemington-Belmar': 2,\n",
       " 'Troy Hill': 2,\n",
       " 'Crafton Heights': 2,\n",
       " 'Garfield': 2,\n",
       " 'Greenfield': 2,\n",
       " 'Morningside': 2,\n",
       " 'Lincoln Place': 2,\n",
       " 'Manchester': 2,\n",
       " 'Marshall-Shadeland': 2,\n",
       " 'Bloomfield': 2,\n",
       " 'Bedford Dwellings': 1,\n",
       " 'Lower Lawrenceville': 1,\n",
       " 'Banksville': 1,\n",
       " 'Homewood North': 1,\n",
       " 'Bon Air': 1,\n",
       " 'Central Oakland': 1,\n",
       " 'Spring Garden': 1,\n",
       " 'Windgap': 1,\n",
       " 'Westwood': 1,\n",
       " 'Perry South': 1,\n",
       " 'Homewood West': 1,\n",
       " 'Strip District': 1,\n",
       " 'Stanton Heights': 1,\n",
       " 'West Oakland': 1,\n",
       " 'East Carnegie': 1,\n",
       " 'Duquesne Heights': 1,\n",
       " 'Esplen': 1,\n",
       " 'Fairywood': 1,\n",
       " 'Fineview': 1,\n",
       " 'Regent Square': 1,\n",
       " 'Allentown': 1,\n",
       " 'Hays': 1,\n",
       " 'Terrace Village': 1,\n",
       " 'Larimer': 1,\n",
       " 'Central Lawrenceville': 1,\n",
       " 'Shadyside': 1,\n",
       " 'Oakwood': 1,\n",
       " 'Perry North': 1,\n",
       " 'Upper Hill': 1,\n",
       " 'New Homestead': 1,\n",
       " 'Spring Hill-City View': 1,\n",
       " 'Swisshelm Park': 1,\n",
       " 'Bluff': 1,\n",
       " 'Middle Hill': 1,\n",
       " 'West End': 1,\n",
       " 'Polish Hill': 1,\n",
       " 'Point Breeze North': 1,\n",
       " 'Squirrel Hill North': 1,\n",
       " 'East Allegheny': 1}"
      ]
     },
     "execution_count": 27,
     "metadata": {},
     "output_type": "execute_result"
    }
   ],
   "source": [
    "neighborhoods = {}\n",
    "for index, row in data.iterrows():\n",
    "    if row['neighborhood'] not in neighborhoods.keys():\n",
    "        neighborhoods[row['neighborhood']] = 0\n",
    "    neighborhoods[row['neighborhood']] += 1\n",
    "\n",
    "# Sorting neighborhoods\n",
    "neighborhoods = dict(sorted(neighborhoods.items(), key=lambda item: item[1], reverse=True))\n",
    "neighborhoods"
   ]
  },
  {
   "cell_type": "markdown",
   "metadata": {},
   "source": [
    "Gives overall number of playgrounds"
   ]
  },
  {
   "cell_type": "code",
   "execution_count": 17,
   "metadata": {},
   "outputs": [
    {
     "data": {
      "text/plain": [
       "68"
      ]
     },
     "execution_count": 17,
     "metadata": {},
     "output_type": "execute_result"
    }
   ],
   "source": [
    "n_series = pd.Series(neighborhoods)\n",
    "len(n_series)"
   ]
  },
  {
   "cell_type": "markdown",
   "metadata": {},
   "source": [
    "### Graphical Representation"
   ]
  },
  {
   "cell_type": "code",
   "execution_count": 14,
   "metadata": {},
   "outputs": [
    {
     "data": {
      "text/plain": [
       "Text(0, 0.5, 'Number of Playgrounds')"
      ]
     },
     "execution_count": 14,
     "metadata": {},
     "output_type": "execute_result"
    },
    {
     "data": {
      "image/png": "[encoded data removed]",
      "text/plain": [
       "<Figure size 432x288 with 1 Axes>"
      ]
     },
     "metadata": {
      "needs_background": "light"
     },
     "output_type": "display_data"
    }
   ],
   "source": [
    "plt.rcParams.update({'font.size': 7})\n",
    "n_series.plot.bar(rot=70)\n",
    "plt.title('Number of Playgrounds by Neighborhood of Pittsburgh')\n",
    "plt.xlabel('Neighborhood')\n",
    "plt.ylabel('Number of Playgrounds')"
   ]
  },
  {
   "cell_type": "markdown",
   "metadata": {},
   "source": [
    "### Part 1 of the graph"
   ]
  },
  {
   "cell_type": "code",
   "execution_count": 39,
   "metadata": {},
   "outputs": [
    {
     "data": {
      "text/plain": [
       "Text(0, 0.5, 'Number of Playgrounds')"
      ]
     },
     "execution_count": 39,
     "metadata": {},
     "output_type": "execute_result"
    },
    {
     "data": {
      "image/png": "[encoded data removed]",
      "text/plain": [
       "<Figure size 432x288 with 1 Axes>"
      ]
     },
     "metadata": {
      "needs_background": "light"
     },
     "output_type": "display_data"
    }
   ],
   "source": [
    "n_series[:21].plot.bar(rot=70)\n",
    "plt.title('Number of Playgrounds by Neighborhood')\n",
    "plt.xlabel('Neighborhood')\n",
    "plt.ylabel('Number of Playgrounds')"
   ]
  },
  {
   "cell_type": "markdown",
   "metadata": {},
   "source": [
    "### Part 2"
   ]
  },
  {
   "cell_type": "code",
   "execution_count": 40,
   "metadata": {},
   "outputs": [
    {
     "data": {
      "text/plain": [
       "Text(0, 0.5, 'Number of Playgrounds')"
      ]
     },
     "execution_count": 40,
     "metadata": {},
     "output_type": "execute_result"
    },
    {
     "data": {
      "image/png": "[encoded data removed]",
      "text/plain": [
       "<Figure size 432x288 with 1 Axes>"
      ]
     },
     "metadata": {
      "needs_background": "light"
     },
     "output_type": "display_data"
    }
   ],
   "source": [
    "n_series[21:42].plot.bar(rot=70)\n",
    "plt.title('Number of Playgrounds by Neighborhood')\n",
    "plt.xlabel('Neighborhood')\n",
    "plt.ylabel('Number of Playgrounds')"
   ]
  },
  {
   "cell_type": "markdown",
   "metadata": {},
   "source": [
    "### Part 3"
   ]
  },
  {
   "cell_type": "code",
   "execution_count": 41,
   "metadata": {},
   "outputs": [
    {
     "data": {
      "text/plain": [
       "Text(0, 0.5, 'Number of Playgrounds')"
      ]
     },
     "execution_count": 41,
     "metadata": {},
     "output_type": "execute_result"
    },
    {
     "data": {
      "image/png": "[encoded data removed]",
      "text/plain": [
       "<Figure size 432x288 with 1 Axes>"
      ]
     },
     "metadata": {
      "needs_background": "light"
     },
     "output_type": "display_data"
    }
   ],
   "source": [
    "n_series[42:].plot.bar(rot=70)\n",
    "plt.title('Number of Playgrounds by Neighborhood')\n",
    "plt.xlabel('Neighborhood')\n",
    "plt.ylabel('Number of Playgrounds')"
   ]
  },
  {
   "cell_type": "markdown",
   "metadata": {},
   "source": [
    "### Top Rankings"
   ]
  },
  {
   "cell_type": "code",
   "execution_count": 24,
   "metadata": {},
   "outputs": [
    {
     "name": "stdout",
     "output_type": "stream",
     "text": [
      "Neighborhoods with Playground Counts:\n",
      "Squirrel Hill South    8\n",
      "Beechview              5\n",
      "South Side Slopes      5\n",
      "Highland Park          4\n",
      "Sheraden               4\n",
      "                      ..\n",
      "Esplen                 1\n",
      "Fairywood              1\n",
      "Regent Square          1\n",
      "Allentown              1\n",
      "East Allegheny         1\n",
      "Name: neighborhood, Length: 68, dtype: int64\n",
      "\n",
      "Top Neighborhoods for Playgrounds:\n",
      "Squirrel Hill South : 8\n",
      "South Side Slopes : 5\n",
      "Beechview : 5\n",
      "Highland Park : 4\n",
      "Sheraden : 4\n"
     ]
    }
   ],
   "source": [
    "# Loads playground from CSV\n",
    "playgrounds_data = pd.read_csv(\"Playground.csv\")\n",
    "\n",
    "# Counts playgrounds\n",
    "playgrounds_counts = playgrounds_data['neighborhood'].value_counts()\n",
    "\n",
    "# Displays neighborhoods\n",
    "print(\"Neighborhoods with Playground Counts:\")\n",
    "print(playgrounds_counts)\n",
    "\n",
    "# Normalize playground\n",
    "normalized_counts = (playgrounds_counts - playgrounds_counts.min()) / (playgrounds_counts.max() - playgrounds_counts.min())\n",
    "\n",
    "# Rank neighborhoods\n",
    "ranked_neighborhoods = normalized_counts.sort_values(ascending=False)\n",
    "\n",
    "# Selects top neighborhoods\n",
    "top_neighborhoods = ranked_neighborhoods.index[:5]  # Change 5 to the number of top neighborhoods you want to display\n",
    "\n",
    "print(\"\\nTop Neighborhoods for Playgrounds:\")\n",
    "for neighborhood in top_neighborhoods:\n",
    "    print(neighborhood, \":\", playgrounds_counts[neighborhood])\n"
   ]
  },
  {
   "cell_type": "markdown",
   "metadata": {},
   "source": [
    "### All Rankings"
   ]
  },
  {
   "cell_type": "code",
   "execution_count": 28,
   "metadata": {},
   "outputs": [
    {
     "name": "stdout",
     "output_type": "stream",
     "text": [
      "The overall ranking is: \n",
      "Squirrel Hill South : 8\n",
      "Beechview : 5\n",
      "South Side Slopes : 5\n",
      "Allegheny Center : 4\n",
      "Highland Park : 4\n",
      "Sheraden : 4\n",
      "Beltzhoover : 4\n",
      "Crawford-Roberts : 3\n",
      "Hazelwood : 3\n",
      "East Liberty : 3\n",
      "Upper Lawrenceville : 3\n",
      "South Oakland : 3\n",
      "Elliott : 3\n",
      "Carrick : 3\n",
      "Mount Washington : 3\n",
      "Central Northside : 2\n",
      "South Side Flats : 2\n",
      "Brighton Heights : 2\n",
      "Brookline : 2\n",
      "Lincoln-Lemington-Belmar : 2\n",
      "Troy Hill : 2\n",
      "Crafton Heights : 2\n",
      "Garfield : 2\n",
      "Greenfield : 2\n",
      "Morningside : 2\n",
      "Lincoln Place : 2\n",
      "Manchester : 2\n",
      "Marshall-Shadeland : 2\n",
      "Bloomfield : 2\n",
      "Bedford Dwellings : 1\n",
      "Lower Lawrenceville : 1\n",
      "Banksville : 1\n",
      "Homewood North : 1\n",
      "Bon Air : 1\n",
      "Central Oakland : 1\n",
      "Spring Garden : 1\n",
      "Windgap : 1\n",
      "Westwood : 1\n",
      "Perry South : 1\n",
      "Homewood West : 1\n",
      "Strip District : 1\n",
      "Stanton Heights : 1\n",
      "West Oakland : 1\n",
      "East Carnegie : 1\n",
      "Duquesne Heights : 1\n",
      "Esplen : 1\n",
      "Fairywood : 1\n",
      "Fineview : 1\n",
      "Regent Square : 1\n",
      "Allentown : 1\n",
      "Hays : 1\n",
      "Terrace Village : 1\n",
      "Larimer : 1\n",
      "Central Lawrenceville : 1\n",
      "Shadyside : 1\n",
      "Oakwood : 1\n",
      "Perry North : 1\n",
      "Upper Hill : 1\n",
      "New Homestead : 1\n",
      "Spring Hill-City View : 1\n",
      "Swisshelm Park : 1\n",
      "Bluff : 1\n",
      "Middle Hill : 1\n",
      "West End : 1\n",
      "Polish Hill : 1\n",
      "Point Breeze North : 1\n",
      "Squirrel Hill North : 1\n",
      "East Allegheny : 1\n"
     ]
    }
   ],
   "source": [
    "top_names = []\n",
    "top_numbers = []\n",
    "\n",
    "for i in range(len(neighborhoods)):\n",
    "    best = max(neighborhoods, key=neighborhoods.get)\n",
    "    top_names.append(best)\n",
    "    top_numbers.append(neighborhoods[best])\n",
    "    neighborhoods[best] = 0\n",
    "\n",
    "print('The overall ranking is: ')\n",
    "for i in range(len(top_names)):\n",
    "    print(top_names[i], ':', top_numbers[i])"
   ]
  },
  {
   "cell_type": "code",
   "execution_count": null,
   "metadata": {},
   "outputs": [],
   "source": []
  }
 ],
 "metadata": {
  "kernelspec": {
   "display_name": "Python 3",
   "language": "python",
   "name": "python3"
  },
  "language_info": {
   "codemirror_mode": {
    "name": "ipython",
    "version": 3
   },
   "file_extension": ".py",
   "mimetype": "text/x-python",
   "name": "python",
   "nbconvert_exporter": "python",
   "pygments_lexer": "ipython3",
   "version": "3.8.3"
  }
 },
 "nbformat": 4,
 "nbformat_minor": 4
}
