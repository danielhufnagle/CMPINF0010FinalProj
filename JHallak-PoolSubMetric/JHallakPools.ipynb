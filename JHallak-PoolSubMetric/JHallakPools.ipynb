{
 "cells": [
  {
   "cell_type": "markdown",
   "metadata": {},
   "source": [
    "# Pools\n"
   ]
  },
  {
   "cell_type": "markdown",
   "metadata": {},
   "source": [
    "Which neighborhood has the most pools? This notebook reads info from pools.csv, sorts it, and then determines which neighborhood is the best based on how many pools it has. "
   ]
  },
  {
   "cell_type": "markdown",
   "metadata": {},
   "source": [
    "### Import Pandas:"
   ]
  },
  {
   "cell_type": "code",
   "execution_count": 7,
   "metadata": {},
   "outputs": [],
   "source": [
    "import pandas as pd\n",
    "import matplotlib.pyplot as plt"
   ]
  },
  {
   "cell_type": "markdown",
   "metadata": {},
   "source": [
    "### Read Data from Pools.csv:"
   ]
  },
  {
   "cell_type": "code",
   "execution_count": 8,
   "metadata": {},
   "outputs": [
    {
     "data": {
      "text/html": [
       "<div>\n",
       "<style scoped>\n",
       "    .dataframe tbody tr th:only-of-type {\n",
       "        vertical-align: middle;\n",
       "    }\n",
       "\n",
       "    .dataframe tbody tr th {\n",
       "        vertical-align: top;\n",
       "    }\n",
       "\n",
       "    .dataframe thead th {\n",
       "        text-align: right;\n",
       "    }\n",
       "</style>\n",
       "<table border=\"1\" class=\"dataframe\">\n",
       "  <thead>\n",
       "    <tr style=\"text-align: right;\">\n",
       "      <th></th>\n",
       "      <th>_id</th>\n",
       "      <th>id</th>\n",
       "      <th>name</th>\n",
       "      <th>type</th>\n",
       "      <th>retired</th>\n",
       "      <th>water_source</th>\n",
       "      <th>capacity</th>\n",
       "      <th>image</th>\n",
       "      <th>neighborhood</th>\n",
       "      <th>council_district</th>\n",
       "      <th>ward</th>\n",
       "      <th>tract</th>\n",
       "      <th>public_works_division</th>\n",
       "      <th>pli_division</th>\n",
       "      <th>police_zone</th>\n",
       "      <th>fire_zone</th>\n",
       "      <th>latitude</th>\n",
       "      <th>longitude</th>\n",
       "    </tr>\n",
       "  </thead>\n",
       "  <tbody>\n",
       "    <tr>\n",
       "      <th>0</th>\n",
       "      <td>1</td>\n",
       "      <td>899591542</td>\n",
       "      <td>Ammon</td>\n",
       "      <td>Pool</td>\n",
       "      <td>NaN</td>\n",
       "      <td>Pittsburgh Water and Sewer Authority</td>\n",
       "      <td>538000.0</td>\n",
       "      <td>https://tools.wprdc.org/images/pittsburgh/pool...</td>\n",
       "      <td>Bedford Dwellings</td>\n",
       "      <td>6</td>\n",
       "      <td>5</td>\n",
       "      <td>42003050900</td>\n",
       "      <td>3</td>\n",
       "      <td>5</td>\n",
       "      <td>2</td>\n",
       "      <td>2-5</td>\n",
       "      <td>40.448728</td>\n",
       "      <td>-79.978329</td>\n",
       "    </tr>\n",
       "    <tr>\n",
       "      <th>1</th>\n",
       "      <td>2</td>\n",
       "      <td>1003800828</td>\n",
       "      <td>Banksville</td>\n",
       "      <td>Pool</td>\n",
       "      <td>NaN</td>\n",
       "      <td>Pennsylvania American Water</td>\n",
       "      <td>166320.0</td>\n",
       "      <td>https://tools.wprdc.org/images/pittsburgh/pool...</td>\n",
       "      <td>Banksville</td>\n",
       "      <td>2</td>\n",
       "      <td>20</td>\n",
       "      <td>42003202300</td>\n",
       "      <td>5</td>\n",
       "      <td>20</td>\n",
       "      <td>6</td>\n",
       "      <td>4-9</td>\n",
       "      <td>40.414766</td>\n",
       "      <td>-80.040555</td>\n",
       "    </tr>\n",
       "    <tr>\n",
       "      <th>2</th>\n",
       "      <td>3</td>\n",
       "      <td>1688544652</td>\n",
       "      <td>Beechview Spray Park</td>\n",
       "      <td>Spray Park</td>\n",
       "      <td>NaN</td>\n",
       "      <td>Pennsylvania American Water</td>\n",
       "      <td>NaN</td>\n",
       "      <td>https://tools.wprdc.org/images/pittsburgh/pool...</td>\n",
       "      <td>Beechview</td>\n",
       "      <td>4</td>\n",
       "      <td>19</td>\n",
       "      <td>42003191600</td>\n",
       "      <td>5</td>\n",
       "      <td>19</td>\n",
       "      <td>6</td>\n",
       "      <td>4-28</td>\n",
       "      <td>40.414997</td>\n",
       "      <td>-80.019173</td>\n",
       "    </tr>\n",
       "  </tbody>\n",
       "</table>\n",
       "</div>"
      ],
      "text/plain": [
       "   _id          id                  name        type  retired  \\\n",
       "0    1   899591542                 Ammon        Pool      NaN   \n",
       "1    2  1003800828            Banksville        Pool      NaN   \n",
       "2    3  1688544652  Beechview Spray Park  Spray Park      NaN   \n",
       "\n",
       "                           water_source  capacity  \\\n",
       "0  Pittsburgh Water and Sewer Authority  538000.0   \n",
       "1           Pennsylvania American Water  166320.0   \n",
       "2           Pennsylvania American Water       NaN   \n",
       "\n",
       "                                               image       neighborhood  \\\n",
       "0  https://tools.wprdc.org/images/pittsburgh/pool...  Bedford Dwellings   \n",
       "1  https://tools.wprdc.org/images/pittsburgh/pool...         Banksville   \n",
       "2  https://tools.wprdc.org/images/pittsburgh/pool...          Beechview   \n",
       "\n",
       "   council_district  ward        tract  public_works_division  pli_division  \\\n",
       "0                 6     5  42003050900                      3             5   \n",
       "1                 2    20  42003202300                      5            20   \n",
       "2                 4    19  42003191600                      5            19   \n",
       "\n",
       "   police_zone fire_zone   latitude  longitude  \n",
       "0            2       2-5  40.448728 -79.978329  \n",
       "1            6       4-9  40.414766 -80.040555  \n",
       "2            6      4-28  40.414997 -80.019173  "
      ]
     },
     "execution_count": 8,
     "metadata": {},
     "output_type": "execute_result"
    }
   ],
   "source": [
    "data = pd.read_csv('pools.csv')\n",
    "data.head(3)    #displays first 3 lines of pools.csv\n"
   ]
  },
  {
   "cell_type": "markdown",
   "metadata": {},
   "source": [
    "### Break Table Down Into Important Info:"
   ]
  },
  {
   "cell_type": "markdown",
   "metadata": {},
   "source": [
    "data = data[['name', 'neighborhood']]  ##displays the name of each pool and what neighborhood it's located in\n",
    "data.head(10)"
   ]
  },
  {
   "cell_type": "markdown",
   "metadata": {},
   "source": [
    "### Calculate Number of Pools Per Neighborhood:"
   ]
  },
  {
   "cell_type": "code",
   "execution_count": 10,
   "metadata": {},
   "outputs": [
    {
     "data": {
      "text/plain": [
       "{'Bedford Dwellings': 1,\n",
       " 'Banksville': 1,\n",
       " 'Beechview': 1,\n",
       " 'Bloomfield': 1,\n",
       " 'Hazelwood': 1,\n",
       " 'Troy Hill': 1,\n",
       " 'East Hills': 1,\n",
       " 'Highland Park': 2,\n",
       " 'Homewood South': 1,\n",
       " 'Brighton Heights': 1,\n",
       " 'Greenfield': 1,\n",
       " 'Lincoln Place': 1,\n",
       " 'Shadyside': 1,\n",
       " 'Brookline': 1,\n",
       " 'South Side Flats': 2,\n",
       " 'Carrick': 1,\n",
       " 'Mount Washington': 1,\n",
       " 'Perry North': 1,\n",
       " 'Squirrel Hill South': 1,\n",
       " 'Sheraden': 1,\n",
       " 'Allegheny Center': 1,\n",
       " 'Beltzhoover': 1,\n",
       " 'Polish Hill': 1,\n",
       " 'Westwood': 1,\n",
       " 'South Side Slopes': 1,\n",
       " 'Lincoln-Lemington-Belmar': 1}"
      ]
     },
     "execution_count": 10,
     "metadata": {},
     "output_type": "execute_result"
    }
   ],
   "source": [
    "neighborhoods = {}\n",
    "\n",
    "for index, row in data.iterrows():\n",
    "    if row['neighborhood'] not in neighborhoods.keys():\n",
    "        neighborhoods[row['neighborhood']] = 0\n",
    "    neighborhoods[row['neighborhood']] += 1\n",
    "neighborhoods"
   ]
  },
  {
   "cell_type": "markdown",
   "metadata": {},
   "source": [
    "Note: Unlike the other data sets which had hundreds of points, the # of pools in Pittsburgh was lacking meaning "
   ]
  },
  {
   "cell_type": "markdown",
   "metadata": {},
   "source": [
    "### Plot Data:"
   ]
  },
  {
   "cell_type": "code",
   "execution_count": 12,
   "metadata": {},
   "outputs": [
    {
     "data": {
      "text/plain": [
       "Text(0, 0.5, 'Pools')"
      ]
     },
     "execution_count": 12,
     "metadata": {},
     "output_type": "execute_result"
    },
    {
     "data": {
      "image/png": "[encoded data removed]",
      "text/plain": [
       "<Figure size 432x288 with 1 Axes>"
      ]
     },
     "metadata": {
      "needs_background": "light"
     },
     "output_type": "display_data"
    }
   ],
   "source": [
    "n_series = pd.Series(neighborhoods)\n",
    "plt.rcParams.update({'font.size': 10})\n",
    "n_series.plot.bar(rot=90)\n",
    "plt.title('Number of Pools')\n",
    "plt.xlabel('Neighborhoods')\n",
    "plt.ylabel('Pools')"
   ]
  },
  {
   "cell_type": "markdown",
   "metadata": {},
   "source": [
    "## Results & Conclusion:"
   ]
  },
  {
   "cell_type": "markdown",
   "metadata": {},
   "source": [
    "### Top Neighborhoods:"
   ]
  },
  {
   "cell_type": "markdown",
   "metadata": {},
   "source": [
    "Highland Park - 2 /////\n",
    "South Side Flats - 2 "
   ]
  },
  {
   "cell_type": "markdown",
   "metadata": {},
   "source": [
    "\n",
    "\n",
    "Unlike the other graphs and sub metrics, the pools graph was a bit awkward and uniform. \n",
    "\n",
    "With the exception of a couple neighborhoods, most neighborhoods had only 0 or 1 pool. \n",
    "\n",
    "Regardless, Highland Park and South Side Flats are the top neighborhoods for this sub metric."
   ]
  }
 ],
 "metadata": {
  "kernelspec": {
   "display_name": "Python 3",
   "language": "python",
   "name": "python3"
  },
  "language_info": {
   "codemirror_mode": {
    "name": "ipython",
    "version": 3
   },
   "file_extension": ".py",
   "mimetype": "text/x-python",
   "name": "python",
   "nbconvert_exporter": "python",
   "pygments_lexer": "ipython3",
   "version": "3.8.3"
  }
 },
 "nbformat": 4,
 "nbformat_minor": 4
}
